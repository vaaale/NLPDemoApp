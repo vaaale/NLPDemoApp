{
 "cells": [
  {
   "cell_type": "code",
   "execution_count": 1,
   "metadata": {
    "collapsed": true
   },
   "outputs": [],
   "source": [
    "import pandas as pd"
   ]
  },
  {
   "cell_type": "code",
   "execution_count": 2,
   "outputs": [],
   "source": [
    "df = pd.read_csv('https://raw.githubusercontent.com/plotly/datasets/master/solar.csv')"
   ],
   "metadata": {
    "collapsed": false,
    "pycharm": {
     "name": "#%%\n"
    }
   }
  },
  {
   "cell_type": "code",
   "execution_count": 5,
   "outputs": [
    {
     "data": {
      "text/plain": "        State  Number of Solar Plants  Installed Capacity (MW)  \\\n0  California                     289                     4395   \n1     Arizona                      48                     1078   \n2      Nevada                      11                      238   \n3  New Mexico                      33                      261   \n4    Colorado                      20                      118   \n\n   Average MW Per Plant  Generation (GWh)  \n0                  15.3             10826  \n1                  22.5              2550  \n2                  21.6               557  \n3                   7.9               590  \n4                   5.9               235  ",
      "text/html": "<div>\n<style scoped>\n    .dataframe tbody tr th:only-of-type {\n        vertical-align: middle;\n    }\n\n    .dataframe tbody tr th {\n        vertical-align: top;\n    }\n\n    .dataframe thead th {\n        text-align: right;\n    }\n</style>\n<table border=\"1\" class=\"dataframe\">\n  <thead>\n    <tr style=\"text-align: right;\">\n      <th></th>\n      <th>State</th>\n      <th>Number of Solar Plants</th>\n      <th>Installed Capacity (MW)</th>\n      <th>Average MW Per Plant</th>\n      <th>Generation (GWh)</th>\n    </tr>\n  </thead>\n  <tbody>\n    <tr>\n      <th>0</th>\n      <td>California</td>\n      <td>289</td>\n      <td>4395</td>\n      <td>15.3</td>\n      <td>10826</td>\n    </tr>\n    <tr>\n      <th>1</th>\n      <td>Arizona</td>\n      <td>48</td>\n      <td>1078</td>\n      <td>22.5</td>\n      <td>2550</td>\n    </tr>\n    <tr>\n      <th>2</th>\n      <td>Nevada</td>\n      <td>11</td>\n      <td>238</td>\n      <td>21.6</td>\n      <td>557</td>\n    </tr>\n    <tr>\n      <th>3</th>\n      <td>New Mexico</td>\n      <td>33</td>\n      <td>261</td>\n      <td>7.9</td>\n      <td>590</td>\n    </tr>\n    <tr>\n      <th>4</th>\n      <td>Colorado</td>\n      <td>20</td>\n      <td>118</td>\n      <td>5.9</td>\n      <td>235</td>\n    </tr>\n  </tbody>\n</table>\n</div>"
     },
     "execution_count": 5,
     "metadata": {},
     "output_type": "execute_result"
    }
   ],
   "source": [
    "df.head()"
   ],
   "metadata": {
    "collapsed": false,
    "pycharm": {
     "name": "#%%\n"
    }
   }
  },
  {
   "cell_type": "code",
   "execution_count": 8,
   "outputs": [
    {
     "data": {
      "text/plain": "[{'State': 'California',\n  'Number of Solar Plants': 289,\n  'Installed Capacity (MW)': 4395,\n  'Average MW Per Plant': 15.3,\n  'Generation (GWh)': 10826},\n {'State': 'Arizona',\n  'Number of Solar Plants': 48,\n  'Installed Capacity (MW)': 1078,\n  'Average MW Per Plant': 22.5,\n  'Generation (GWh)': 2550},\n {'State': 'Nevada',\n  'Number of Solar Plants': 11,\n  'Installed Capacity (MW)': 238,\n  'Average MW Per Plant': 21.6,\n  'Generation (GWh)': 557},\n {'State': 'New Mexico',\n  'Number of Solar Plants': 33,\n  'Installed Capacity (MW)': 261,\n  'Average MW Per Plant': 7.9,\n  'Generation (GWh)': 590},\n {'State': 'Colorado',\n  'Number of Solar Plants': 20,\n  'Installed Capacity (MW)': 118,\n  'Average MW Per Plant': 5.9,\n  'Generation (GWh)': 235},\n {'State': 'Texas',\n  'Number of Solar Plants': 12,\n  'Installed Capacity (MW)': 187,\n  'Average MW Per Plant': 15.6,\n  'Generation (GWh)': 354},\n {'State': 'North Carolina',\n  'Number of Solar Plants': 148,\n  'Installed Capacity (MW)': 669,\n  'Average MW Per Plant': 4.5,\n  'Generation (GWh)': 1162},\n {'State': 'New York',\n  'Number of Solar Plants': 13,\n  'Installed Capacity (MW)': 53,\n  'Average MW Per Plant': 4.1,\n  'Generation (GWh)': 84}]"
     },
     "execution_count": 8,
     "metadata": {},
     "output_type": "execute_result"
    }
   ],
   "source": [
    "df.to_dict('records')"
   ],
   "metadata": {
    "collapsed": false,
    "pycharm": {
     "name": "#%%\n"
    }
   }
  },
  {
   "cell_type": "code",
   "execution_count": null,
   "outputs": [],
   "source": [],
   "metadata": {
    "collapsed": false,
    "pycharm": {
     "name": "#%%\n"
    }
   }
  }
 ],
 "metadata": {
  "kernelspec": {
   "display_name": "Python 3",
   "language": "python",
   "name": "python3"
  },
  "language_info": {
   "codemirror_mode": {
    "name": "ipython",
    "version": 2
   },
   "file_extension": ".py",
   "mimetype": "text/x-python",
   "name": "python",
   "nbconvert_exporter": "python",
   "pygments_lexer": "ipython2",
   "version": "2.7.6"
  }
 },
 "nbformat": 4,
 "nbformat_minor": 0
}