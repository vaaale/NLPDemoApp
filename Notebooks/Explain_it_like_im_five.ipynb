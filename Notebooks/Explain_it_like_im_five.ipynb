{
 "cells": [
  {
   "cell_type": "markdown",
   "id": "9129d8a1",
   "metadata": {},
   "source": [
    "# Explain it like i'm five!\n",
    "https://yjernite.github.io/lfqa.html"
   ]
  },
  {
   "cell_type": "markdown",
   "id": "943b21aa",
   "metadata": {},
   "source": [
    "## Get the data"
   ]
  },
  {
   "cell_type": "code",
   "execution_count": 1,
   "id": "c2ba8cf7",
   "metadata": {},
   "outputs": [
    {
     "name": "stderr",
     "output_type": "stream",
     "text": [
      "/home/user/PycharmProjects/Retreive_and_Rerank/.venv/lib/python3.8/site-packages/tqdm/auto.py:22: TqdmWarning: IProgress not found. Please update jupyter and ipywidgets. See https://ipywidgets.readthedocs.io/en/stable/user_install.html\n",
      "  from .autonotebook import tqdm as notebook_tqdm\n"
     ]
    }
   ],
   "source": [
    "import nlp\n",
    "import pickle\n",
    "from lfqa_utils import *"
   ]
  },
  {
   "cell_type": "code",
   "execution_count": null,
   "id": "fde735cc",
   "metadata": {},
   "outputs": [],
   "source": [
    "import nlp\n",
    "eli5 = nlp.load_dataset('eli5')\n",
    "wiki40b_snippets = nlp.load_dataset('wiki_snippets', name='wiki40b_en_100_0')['train']"
   ]
  },
  {
   "cell_type": "code",
   "execution_count": null,
   "id": "5054a995",
   "metadata": {},
   "outputs": [],
   "source": [
    "import pickle"
   ]
  },
  {
   "cell_type": "code",
   "execution_count": null,
   "id": "c5f2c87a",
   "metadata": {},
   "outputs": [],
   "source": [
    "with open(\"../Data/wiki_snippets.pk\", \"wb\") as out:\n",
    "    pickle.dump(wiki40b_snippets, out)"
   ]
  },
  {
   "cell_type": "code",
   "execution_count": 2,
   "id": "5f472b1a",
   "metadata": {},
   "outputs": [],
   "source": [
    "with open(\"../Data/wiki_snippets.pk\", \"rb\") as inp:\n",
    "    wiki40b_snippets = pickle.load(inp)\n"
   ]
  },
  {
   "cell_type": "code",
   "execution_count": null,
   "id": "1228b038",
   "metadata": {},
   "outputs": [],
   "source": [
    "from lfqa_utils import *"
   ]
  },
  {
   "cell_type": "markdown",
   "id": "b7b83948",
   "metadata": {},
   "source": [
    "## Setting up Elastic Search"
   ]
  },
  {
   "cell_type": "code",
   "execution_count": 3,
   "id": "74b7feaf",
   "metadata": {},
   "outputs": [],
   "source": [
    "es_client = Elasticsearch([{'host': 'localhost', 'port': 9200, 'scheme': 'http'}])"
   ]
  },
  {
   "cell_type": "markdown",
   "id": "14b6d007",
   "metadata": {},
   "source": [
    "### Create the index"
   ]
  },
  {
   "cell_type": "markdown",
   "id": "8343193d",
   "metadata": {},
   "source": [
    "#### The index will be configures as follows\n",
    "~~~\n",
    "index_config = {\n",
    "   \"settings\": {\n",
    "     \"number_of_shards\": 1,\n",
    "   },\n",
    "   \"mappings\": {\n",
    "     \"properties\": {\n",
    "       \"article_title\": {\"type\": \"text\", \"analyzer\": \"standard\", \"similarity\": \"BM25\"},\n",
    "       \"section_title\": {\"type\": \"text\", \"analyzer\": \"standard\", \"similarity\": \"BM25\"},\n",
    "       \"passage_text\": {\"type\": \"text\", \"analyzer\": \"standard\", \"similarity\": \"BM25\"}\n",
    "     }\n",
    "   }\n",
    " }\n",
    "~~~"
   ]
  },
  {
   "cell_type": "markdown",
   "id": "9f75e523",
   "metadata": {},
   "source": [
    "### Build index"
   ]
  },
  {
   "cell_type": "code",
   "execution_count": null,
   "id": "f2106d6f",
   "metadata": {},
   "outputs": [
    {
     "name": "stderr",
     "output_type": "stream",
     "text": [
      " 16%|█▋        | 2852501/17553713 [19:10<1:32:43, 2642.43docs/s]"
     ]
    }
   ],
   "source": [
    "if not es_client.indices.exists(index='wiki40b_snippets_100w'):\n",
    "    make_es_index_snippets(es_client, wiki40b_snippets, index_name='wiki40b_snippets_100w')"
   ]
  },
  {
   "cell_type": "code",
   "execution_count": null,
   "id": "31963196",
   "metadata": {},
   "outputs": [],
   "source": []
  },
  {
   "cell_type": "code",
   "execution_count": null,
   "id": "c0f81aec",
   "metadata": {},
   "outputs": [],
   "source": []
  }
 ],
 "metadata": {
  "kernelspec": {
   "display_name": "Python 3 (ipykernel)",
   "language": "python",
   "name": "python3"
  },
  "language_info": {
   "codemirror_mode": {
    "name": "ipython",
    "version": 3
   },
   "file_extension": ".py",
   "mimetype": "text/x-python",
   "name": "python",
   "nbconvert_exporter": "python",
   "pygments_lexer": "ipython3",
   "version": "3.8.10"
  }
 },
 "nbformat": 4,
 "nbformat_minor": 5
}
