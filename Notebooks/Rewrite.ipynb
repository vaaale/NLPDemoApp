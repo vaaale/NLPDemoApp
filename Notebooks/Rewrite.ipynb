{
 "cells": [
  {
   "cell_type": "code",
   "execution_count": 1,
   "metadata": {
    "collapsed": true,
    "pycharm": {
     "name": "#%%\n"
    }
   },
   "outputs": [],
   "source": [
    "import sys"
   ]
  },
  {
   "cell_type": "code",
   "execution_count": 2,
   "outputs": [],
   "source": [
    "sys.path.append(\"../Web\")"
   ],
   "metadata": {
    "collapsed": false,
    "pycharm": {
     "name": "#%%\n"
    }
   }
  },
  {
   "cell_type": "code",
   "execution_count": 3,
   "outputs": [
    {
     "name": "stderr",
     "output_type": "stream",
     "text": [
      "/home/user/PycharmProjects/Retreive_and_Rerank/.venv/lib/python3.8/site-packages/tqdm/auto.py:22: TqdmWarning: IProgress not found. Please update jupyter and ipywidgets. See https://ipywidgets.readthedocs.io/en/stable/user_install.html\n",
      "  from .autonotebook import tqdm as notebook_tqdm\n"
     ]
    }
   ],
   "source": [
    "from backend import load_corpus, load_bi_encoder, load_cross_encoder, embed_corpus, embed_corpus_bm25, bm25_tokenizer, search"
   ],
   "metadata": {
    "collapsed": false,
    "pycharm": {
     "name": "#%%\n"
    }
   }
  },
  {
   "cell_type": "code",
   "execution_count": 4,
   "outputs": [
    {
     "name": "stdout",
     "output_type": "stream",
     "text": [
      "Passages: 169597\n"
     ]
    }
   ],
   "source": [
    "passages = load_corpus(wikipedia_filepath='../Data/simplewiki-2020-11-01.jsonl.gz')"
   ],
   "metadata": {
    "collapsed": false,
    "pycharm": {
     "name": "#%%\n"
    }
   }
  },
  {
   "cell_type": "code",
   "execution_count": 5,
   "outputs": [],
   "source": [
    "bi_encoder = load_bi_encoder()\n",
    "cross_encoder = load_cross_encoder()"
   ],
   "metadata": {
    "collapsed": false,
    "pycharm": {
     "name": "#%%\n"
    }
   }
  },
  {
   "cell_type": "code",
   "execution_count": 6,
   "outputs": [],
   "source": [
    "corpus_embeddings = embed_corpus(passages, corpus_embedding_filename=\"../Data/corpus_embeddings.pk\", bi_encoder=bi_encoder)"
   ],
   "metadata": {
    "collapsed": false,
    "pycharm": {
     "name": "#%%\n"
    }
   }
  },
  {
   "cell_type": "code",
   "execution_count": 7,
   "outputs": [],
   "source": [
    "bm25 = embed_corpus_bm25(passages, bm25_filename=\"../Data/bm25_embeddings.pk\")"
   ],
   "metadata": {
    "collapsed": false,
    "pycharm": {
     "name": "#%%\n"
    }
   }
  },
  {
   "cell_type": "code",
   "execution_count": 8,
   "outputs": [
    {
     "name": "stdout",
     "output_type": "stream",
     "text": [
      "Input question: What is the capital of the Norway?\n",
      "Top-3 lexical search (BM25) hits\n",
      "\t13.337\tThe University of Oslo (, ) is the oldest and largest university in Norway. It is in the Norwegian capital, Oslo.\n",
      "\t11.149\tMøre og Romsdal is a county in Norway. Norway has 19 counties.\n",
      "\t11.149\tNorway national football team is the national football team of Norway.\n",
      "\n",
      "-------------------------\n",
      "\n",
      "Top-3 Bi-Encoder Retrieval hits\n",
      "\t0.675\tOslo is the capital city of Norway. It is Norway's largest city, with a population of 647,676 people in 2015. The area near the city has a total population of 1,546,706. The city government of Oslo and the county are the same thing.\n",
      "\t0.668\tNorway is a country in the north of Europe. It is the western part of the Scandinavian peninsula. The mainland of Norway is surrounded by the North Sea and Atlantic Ocean on the west side, and borders Russia, Finland, and Sweden to the east. The southern coast touches the Oslofjord, Skagerrak, and the North Sea.\n",
      "\t0.665\tNorway is a town in Oxford County, Maine, United States. It is home to Lake Pennesseewassee, a recreation area.\n",
      "\n",
      "-------------------------\n",
      "\n",
      "Top-3 Cross-Encoder Re-ranker hits\n",
      "\t8.283\tOslo is the capital city of Norway. It is Norway's largest city, with a population of 647,676 people in 2015. The area near the city has a total population of 1,546,706. The city government of Oslo and the county are the same thing.\n",
      "\t3.687\tThe city of Trondheim was founded in 997. It was frequently used as the seat of the king, and was capital of Norway until 1217. In the Middle Ages, Trondheim was the site of several battles, including the battle between King Sverre and Erling Skakke, in 1179. The city has experienced several major fires - the most devastating in 1651 and 1681. The 1651 fire destroyed 90% of the buildings in Trondheim, and the 1681 fire led to a total reconstruction of the city.\n",
      "\t3.300\tThe Kingdom of Denmark-Norway was a union between the two kingdoms Denmark and Norway, which lasted from 1536 to 1814. During this time, the capital of both countries was Copenhagen, and they shared the same military. The kingdom also possessed colonies in Greenland, Iceland, Africa, the Caribbean and India.\n"
     ]
    }
   ],
   "source": [
    "response = search(\"What is the capital of the Norway?\", passages, corpus_embeddings, bm25, bi_encoder, cross_encoder, top_k=32)"
   ],
   "metadata": {
    "collapsed": false,
    "pycharm": {
     "name": "#%%\n"
    }
   }
  },
  {
   "cell_type": "code",
   "execution_count": 9,
   "outputs": [
    {
     "data": {
      "text/plain": "{'query': 'What is the capital of the Norway?',\n 'bm25_hits': [(13.337164078743639,\n   'The University of Oslo (, ) is the oldest and largest university in Norway. It is in the Norwegian capital, Oslo.'),\n  (11.149423149819333,\n   'Møre og Romsdal is a county in Norway. Norway has 19 counties.'),\n  (11.149423149819333,\n   'Norway national football team is the national football team of Norway.')],\n 'bi_encoder_hits': [(0.6751672625541687,\n   \"Oslo is the capital city of Norway. It is Norway's largest city, with a population of 647,676 people in 2015. The area near the city has a total population of 1,546,706. The city government of Oslo and the county are the same thing.\"),\n  (0.6675764322280884,\n   'Norway is a country in the north of Europe. It is the western part of the Scandinavian peninsula. The mainland of Norway is surrounded by the North Sea and Atlantic Ocean on the west side, and borders Russia, Finland, and Sweden to the east. The southern coast touches the Oslofjord, Skagerrak, and the North Sea.'),\n  (0.6649590730667114,\n   'Norway is a town in Oxford County, Maine, United States. It is home to Lake Pennesseewassee, a recreation area.')],\n 'cross_encoder_hits': [(8.282915,\n   \"Oslo is the capital city of Norway. It is Norway's largest city, with a population of 647,676 people in 2015. The area near the city has a total population of 1,546,706. The city government of Oslo and the county are the same thing.\"),\n  (3.6871088,\n   'The city of Trondheim was founded in 997. It was frequently used as the seat of the king, and was capital of Norway until 1217. In the Middle Ages, Trondheim was the site of several battles, including the battle between King Sverre and Erling Skakke, in 1179. The city has experienced several major fires - the most devastating in 1651 and 1681. The 1651 fire destroyed 90% of the buildings in Trondheim, and the 1681 fire led to a total reconstruction of the city.'),\n  (3.2998989,\n   'The Kingdom of Denmark-Norway was a union between the two kingdoms Denmark and Norway, which lasted from 1536 to 1814. During this time, the capital of both countries was Copenhagen, and they shared the same military. The kingdom also possessed colonies in Greenland, Iceland, Africa, the Caribbean and India.')]}"
     },
     "execution_count": 9,
     "metadata": {},
     "output_type": "execute_result"
    }
   ],
   "source": [
    "response"
   ],
   "metadata": {
    "collapsed": false,
    "pycharm": {
     "name": "#%%\n"
    }
   }
  }
 ],
 "metadata": {
  "kernelspec": {
   "display_name": "Python 3",
   "language": "python",
   "name": "python3"
  },
  "language_info": {
   "codemirror_mode": {
    "name": "ipython",
    "version": 2
   },
   "file_extension": ".py",
   "mimetype": "text/x-python",
   "name": "python",
   "nbconvert_exporter": "python",
   "pygments_lexer": "ipython2",
   "version": "2.7.6"
  }
 },
 "nbformat": 4,
 "nbformat_minor": 0
}