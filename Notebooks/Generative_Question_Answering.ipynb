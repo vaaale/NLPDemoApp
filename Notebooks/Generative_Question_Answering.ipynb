{
 "cells": [
  {
   "cell_type": "code",
   "execution_count": 10,
   "id": "bbff18a0",
   "metadata": {},
   "outputs": [
    {
     "name": "stderr",
     "output_type": "stream",
     "text": [
      "Setting `pad_token_id` to `eos_token_id`:50256 for open-end generation.\n"
     ]
    },
    {
     "data": {
      "text/plain": [
       "[{'generated_text': 'Norway is the greates country in the world because of the strong country it has built; and so it is in its own neighbourhood, and so even with Great Britain the population of Finland is greatly less the Great British. It was founded by an individual and in its own community, and there are as many as fourteen towns. It is a most populous nation, according as of its soil, so its soil has been always much less than its principal country, for many years the soil which it has grown in has been much less solid, and it is now less secure. It has been always in the same condition with her motherland as with Great Britain; for it is not small. On the whole country, in all the kingdoms and the dominions of Great Britain, this country has shown far greater progress than any other country in the world. The inhabitants of Finland now make more peace with each other than any other other country in the world. This was done with great care, especially in the present or the last centuries. There is now a great number of nations in the continent which will unite in their independence. It came to be necessary for them to maintain their order and peace. They have always done this, and their nation after that peace and peace has lasted much longer than any other country in the world, and the number of nations of this earth will no longer have to worry about this, but will be able to endure longer. The world is very happy, and it is very happy'},\n",
       " {'generated_text': 'Norway is the greates country in the world because its name means \"the land of the free\"; the name of our country is \"the island of freedom, where the people do not fight, and on whose walls only those who oppose them have a safety\". The Irish people are one of the earliest European settlers and may owe much of their success in the war against England and Ireland to this fact. They built much of their commercial enterprise on the island, which remains the principal source of trade to today\\'s people.\\n\\nThe European experience with Ireland, particularly in the 17th century, must be taken into account. The colonies established by British rule of 1575 were largely dependent on the aid of the Netherlands. In 1759, the Dutch, like the whole of Anglo-Saxons, agreed to help and train the colonies in England. Although they tried to keep the Dutch out of the colonies, the Dutch felt that the English were being pushed outside of their borders. They wanted to maintain English control, and thus the French wanted to keep the Dutch out of the territory. The English considered these actions as the beginning of a French invasion, which would eventually wipe out all Dutch living in the territories. During the early 16th century, however, the Dutch moved out of their traditional colonies and were given autonomy from the British Empire. British and Dutch interests are so connected that they often cross an international border to create an open area. This creates a situation where the Dutch must compete with one other'},\n",
       " {'generated_text': \"Norway is the greates country in the world because from its mountainous and sparsely populated regions, it has the best roads to all levels of society.\\n\\nIn northern Europe, where most people live, most of the highways are narrow, or even closed. They take up most of the road for travel to different locations (for example, shopping, farming, farming towns). But even with that in mind, Norwegian roads aren't great, at least not compared to those of many other European countries. While not the best road, Norway's roads don't leave many gaps at all, especially compared to most European countries.\\n\\nYou'd think roads with a wide range of uses would be easier to travel through. Some roads are shorter or more limited, some roads allow you to have a look at a large geographic area, and many roads offer opportunities beyond the narrow lanes or very narrow, narrow roads. However, on some roads, these are difficult or nonexistent opportunities. For example, in Norway, traffic is usually short and difficult but some roads may take hours or days. As time goes by, people are less happy and the conditions of driving become more challenging.\\n\\nHow to Drive\\n\\nThe roads on most roads in Norway are basically similar, except there's nothing quite as big or as small as an 8-lane road. There are two kinds of roads – one for driving on the road; one for taking in the road (travel between various destinations); one for taking in the\"}]"
      ]
     },
     "execution_count": 10,
     "metadata": {},
     "output_type": "execute_result"
    }
   ],
   "source": [
    "from transformers import pipeline\n",
    "generator = pipeline('text-generation', model = 'gpt2')\n",
    "generator(\"Norway is the greates country in the world because\", max_length = 300, num_return_sequences=3)\n"
   ]
  },
  {
   "cell_type": "code",
   "execution_count": 5,
   "id": "f533023c",
   "metadata": {},
   "outputs": [
    {
     "name": "stderr",
     "output_type": "stream",
     "text": [
      "No model was supplied, defaulted to distilbert-base-cased-distilled-squad (https://huggingface.co/distilbert-base-cased-distilled-squad)\n"
     ]
    },
    {
     "data": {
      "text/plain": [
       "{'score': 0.6455992460250854, 'start': 552, 'end': 559, 'answer': '647,676'}"
      ]
     },
     "execution_count": 5,
     "metadata": {},
     "output_type": "execute_result"
    }
   ],
   "source": [
    "qa_model = pipeline(\"question-answering\")\n",
    "question = \"how many people live in Oslo?\"\n",
    "context = \"The city of Trondheim was founded in 997. It was frequently used as the seat of the king, and was capital of Norway until 1217. In the Middle Ages, Trondheim was the site of several battles, including the battle between King Sverre and Erling Skakke, in 1179. The city has experienced several major fires - the most devastating in 1651 and 1681. The 1651 fire destroyed 90% of the buildings in Trondheim, and the 1681 fire led to a total reconstruction of the city. Oslo is the capital city of Norway. It is Norway's largest city, with a population of 647,676 people in 2015. The area near the city has a total population of 1,546,706. The city government of Oslo and the county are the same thing.\"\n",
    "qa_model(question = question, context = context)"
   ]
  },
  {
   "cell_type": "code",
   "execution_count": null,
   "id": "3b781180",
   "metadata": {},
   "outputs": [],
   "source": []
  }
 ],
 "metadata": {
  "kernelspec": {
   "display_name": "Python 3 (ipykernel)",
   "language": "python",
   "name": "python3"
  },
  "language_info": {
   "codemirror_mode": {
    "name": "ipython",
    "version": 3
   },
   "file_extension": ".py",
   "mimetype": "text/x-python",
   "name": "python",
   "nbconvert_exporter": "python",
   "pygments_lexer": "ipython3",
   "version": "3.8.10"
  }
 },
 "nbformat": 4,
 "nbformat_minor": 5
}
